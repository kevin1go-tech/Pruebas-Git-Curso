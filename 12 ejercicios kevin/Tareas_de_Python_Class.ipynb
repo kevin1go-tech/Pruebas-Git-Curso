{
  "nbformat": 4,
  "nbformat_minor": 0,
  "metadata": {
    "colab": {
      "provenance": []
    },
    "kernelspec": {
      "name": "python3",
      "display_name": "Python 3"
    },
    "language_info": {
      "name": "python"
    }
  },
  "cells": [
    {
      "cell_type": "markdown",
      "source": [
        "##Curso de Programacion\n",
        "#Semana 01 - Tarea\n",
        "\n",
        "Resolver los siguientes ejercicios:\n",
        "\n",
        "* José es administrador en una fábrica de chocolates, una de sus tareas es pedir las cajas al proveedor semanalmente, en cada caja entran 12 chocolates. Hacer un programa que le pida al jefe de producción la cantidad de chocolates que se producirán diariamente la próxima semana y resolver ¿qué debe hacer José?\n",
        "\n",
        "* Dados los catetos de un triángulo rectángulo, calcular su hipotenusa.\n",
        "\n",
        "* Escribir un programa que convierta un valor dado en grados Fahrenheit a grados Celsius. Recordar que la fórmula para la conversión es: C = (F-32)*5/9\n",
        "\n",
        "* Escriba un programa que pida dos números enteros y que escriba si el mayor es múltiplo del menor.\n",
        "\n",
        "* Mejore el programa anterior haciendo que no se acepten números negativos ni cero.\n",
        "\n",
        "* Escriba un programa que pida un año y que escriba si es bisiesto o no. Se recuerda que los años bisiestos son múltiplos de 4, pero los múltiplos de 100 no lo son, aunque los múltiplos de 400 sí.\n",
        "\n",
        "* Muestra los múltiplos de 3 a partir del 3 hasta el número que el usuario indique.\n",
        "\n",
        "* Escriba un programa que pida dos números enteros. El programa pedirá de nuevo el segundo número mientras no sea mayor que el primero. El programa terminará escribiendo los dos números.\n",
        "\n",
        "* Escriba un programa que pida números enteros mientras sean cada vez más grandes.\n",
        "\n",
        "* Escriba un programa que pida las notas de un grupo, se le preguntará al usuario si quiere seguir ingresando notas, y mientras la respuesta sea Sí/SÍ/sí, se debe seguir ingresando. Al finalizar el ingreso de notas, se debe mostrar una lista de las notas aprobadas y otra de las desaprobadas.\n",
        "\n",
        "* Pedir el nombre de 5 asignaturas y su notas respectivas, luego mostrar los mensajes: “En la asignatura XXXXXXX sacó XXXXXX, para cada asignatura.\n",
        "\n",
        "* Un estacionamiento cobra S/3.00 por la primera hora, luego S/0.50 por cada hora siguiente. El cargo máximo por día es de S/12.00. Programe una función para que al ingresar el número de horas se imprima el cargo. Escriba una función que reciba dos números y determine si el primero es múltiplo del segundo. El usuario ingresará un número de horas, de minutos y segundos y nos devuelva el equivalente en segundos."
      ],
      "metadata": {
        "id": "pOB2pZQ_6gca"
      }
    },
    {
      "cell_type": "code",
      "source": [
        "## Resolucion de ejercicios ##\n",
        "\n",
        "# Problema 1 #\n",
        "\n",
        "chocolates_diarios =int(input(\"Ingresa la cantidad de chocolates diarios: \"))\n",
        "caja_chocolates = chocolates_diarios // 12\n",
        "if chocolates_diarios % 12 != 0:\n",
        "    caja_chocolates += 1\n",
        "chocolates_semanal = caja_chocolates * 7\n",
        "print(\"La cantidad de cajas de chocolates semanales es: \", chocolates_semanal)\n"
      ],
      "metadata": {
        "colab": {
          "base_uri": "https://localhost:8080/"
        },
        "id": "aIW9KrZ07hGA",
        "outputId": "2c43a19f-b3a2-47bd-be12-1b3ff40379e3"
      },
      "execution_count": null,
      "outputs": [
        {
          "output_type": "stream",
          "name": "stdout",
          "text": [
            "Ingresa la cantidad de chocolates diarios: 48\n",
            "La cantidad de cajas de chocolates semanales es:  28\n"
          ]
        }
      ]
    },
    {
      "cell_type": "code",
      "source": [
        "# Problema 2 #\n",
        "\n",
        "CatetoA = int(input(\"Ingrese el valor del cateto A: \"))\n",
        "CatetoB = int(input(\"Ingrese el valor del cateto B: \"))\n",
        "Ipotenusa = (CatetoA**2 + CatetoB**2)**0.5\n",
        "print(\"La hipotenusa es: \", Ipotenusa)"
      ],
      "metadata": {
        "colab": {
          "base_uri": "https://localhost:8080/"
        },
        "id": "x-KawY-g_hPD",
        "outputId": "01a9b32d-afe6-4f47-e4af-d656e91e94a8"
      },
      "execution_count": null,
      "outputs": [
        {
          "output_type": "stream",
          "name": "stdout",
          "text": [
            "Ingrese el valor del cateto A: 6\n",
            "Ingrese el valor del cateto B: 8\n",
            "La hipotenusa es:  10.0\n"
          ]
        }
      ]
    },
    {
      "cell_type": "code",
      "source": [
        "# Problema 3 #\n",
        "\n",
        "gradosf = float(input(\"Ingrese la temperatura en grados Fahrenheit: \"))\n",
        "gradosc = (gradosf - 32) * 5/9\n",
        "print(\"La temperatura en grados Celsius es: \", gradosc)\n"
      ],
      "metadata": {
        "colab": {
          "base_uri": "https://localhost:8080/"
        },
        "id": "f7yc-_4iAbzw",
        "outputId": "35ffa320-b8c7-4c45-87fd-6548652cfb91"
      },
      "execution_count": null,
      "outputs": [
        {
          "output_type": "stream",
          "name": "stdout",
          "text": [
            "Ingrese la temperatura en grados Fahrenheit: 98.6\n",
            "La temperatura en grados Celsius es:  37.0\n"
          ]
        }
      ]
    },
    {
      "cell_type": "code",
      "source": [
        "# Problema 4 #\n",
        "\n",
        "num1 = int(input(\"Ingrese el primer numero entero: \"))\n",
        "num2 = int(input(\"Ingrese el segundo numero entero: \"))\n",
        "if num1 % num2 == 0:\n",
        "   print(\"El primer numero es multiplo del segundo\")\n",
        "else:\n",
        "   print(\"El primer numero no es multiplo del segundo\")"
      ],
      "metadata": {
        "colab": {
          "base_uri": "https://localhost:8080/"
        },
        "id": "e-xObsaPBKCZ",
        "outputId": "ff69b2bd-ee66-4b81-998b-53bc3e9c8e75"
      },
      "execution_count": null,
      "outputs": [
        {
          "output_type": "stream",
          "name": "stdout",
          "text": [
            "Ingrese el primer numero entero: 4\n",
            "Ingrese el segundo numero entero: 2\n",
            "El primer numero es multiplo del segundo\n"
          ]
        }
      ]
    },
    {
      "cell_type": "code",
      "source": [
        "# Problema 5 #\n",
        "\n",
        "num1 = int(input(\"Ingrese el primer numero entero: \"))\n",
        "num2 = int(input(\"Ingrese el segundo numero entero: \"))\n",
        "\n",
        "if num1 < 0 or num2 < 0:\n",
        "    print(\"Los numeros no pueden ser negativos\")\n",
        "else:\n",
        "    if num1 % num2 == 0:\n",
        "        print(\"El primer numero es multiplo del segundo\")\n",
        "    else:\n",
        "        print(\"El primer numero no es multiplo del segundo\")\n"
      ],
      "metadata": {
        "colab": {
          "base_uri": "https://localhost:8080/"
        },
        "id": "390Zpn6jB3MZ",
        "outputId": "cd1541ae-5db8-4947-cc3b-1dc95dd19068"
      },
      "execution_count": null,
      "outputs": [
        {
          "output_type": "stream",
          "name": "stdout",
          "text": [
            "Ingrese el primer numero entero: -9\n",
            "Ingrese el segundo numero entero: -5\n",
            "Los numeros no pueden ser negativos\n"
          ]
        }
      ]
    },
    {
      "cell_type": "code",
      "source": [
        "# Problema 6 #\n",
        "\n",
        "year = int(input(\"Ingrese el año: \"))\n",
        "if (year % 4 == 0 and year % 100 != 0) or (year % 400 == 0):\n",
        "    print(\"El año es bisiesto\")\n",
        "else:\n",
        "    print(\"El año no es bisiesto\")\n"
      ],
      "metadata": {
        "colab": {
          "base_uri": "https://localhost:8080/"
        },
        "id": "FeBhqD_lCZbJ",
        "outputId": "aeb974fc-4af0-4fbb-8da0-0c52f8a29e2b"
      },
      "execution_count": null,
      "outputs": [
        {
          "output_type": "stream",
          "name": "stdout",
          "text": [
            "Ingrese el año: 2024\n",
            "El año es bisiesto\n"
          ]
        }
      ]
    },
    {
      "cell_type": "code",
      "source": [
        "# Problema 7 #\n",
        "\n",
        "mul = int(input(\"Ingrese las veces que quiere ver los multiplos de 3: \"))\n",
        "for i in range(3, mul+1, 3):\n",
        "    print(i)\n"
      ],
      "metadata": {
        "colab": {
          "base_uri": "https://localhost:8080/"
        },
        "id": "S7FJhAcpFdcY",
        "outputId": "cbfc5d0d-3b76-4189-dd00-f5d869797900"
      },
      "execution_count": null,
      "outputs": [
        {
          "output_type": "stream",
          "name": "stdout",
          "text": [
            "Ingrese las veces que quiere ver los multiplos de 3: 12\n",
            "3\n",
            "6\n",
            "9\n",
            "12\n"
          ]
        }
      ]
    },
    {
      "cell_type": "code",
      "source": [
        "# Problema 8 #\n",
        "\n",
        "numA = int(input(\"Escriba el primer numero: \"))\n",
        "numB = int(input(\"Escriba el segundo numero: \"))\n",
        "while (numB <= numA):\n",
        "  print(\"El segundo número debe ser mayor que el primero.\")\n",
        "  numB = int(input(\"Escriba el segundo numero de nuevo: \"))\n",
        "print(\"El primer numero es: \", numA)\n",
        "print(\"El segundo numero es: \", numB)"
      ],
      "metadata": {
        "colab": {
          "base_uri": "https://localhost:8080/"
        },
        "id": "Bv4EiPucJImh",
        "outputId": "d20fac27-566b-4982-c538-c12d53fc181d"
      },
      "execution_count": null,
      "outputs": [
        {
          "output_type": "stream",
          "name": "stdout",
          "text": [
            "Escriba el primer numero: 10\n",
            "Escriba el segundo numero: 2\n",
            "El segundo número debe ser mayor que el primero.\n",
            "Escriba el segundo numero de nuevo: 4\n",
            "El segundo número debe ser mayor que el primero.\n",
            "Escriba el segundo numero de nuevo: 6\n",
            "El segundo número debe ser mayor que el primero.\n",
            "Escriba el segundo numero de nuevo: 8\n",
            "El segundo número debe ser mayor que el primero.\n",
            "Escriba el segundo numero de nuevo: 10\n",
            "El segundo número debe ser mayor que el primero.\n",
            "Escriba el segundo numero de nuevo: 12\n",
            "El primer numero es:  10\n",
            "El segundo numero es:  12\n"
          ]
        }
      ]
    },
    {
      "cell_type": "code",
      "source": [
        "# Problema 9 #\n",
        "\n",
        "num_principal = int(input(\"Ingrese el numero grande: \"))\n",
        "num_secundario = int(input(\"Ingrese su numero actual: \"))\n",
        "\n",
        "while True:\n",
        "  if (num_secundario <= num_principal):\n",
        "    print(\"El numero es menor al numero grande\")\n",
        "    break\n",
        "  else:\n",
        "    num_principal = num_secundario\n",
        "    print(\"Numero grande actual: \",num_principal)\n",
        "    num_secundario = int(input(\"Ingrese su numero actual: \"))\n"
      ],
      "metadata": {
        "colab": {
          "base_uri": "https://localhost:8080/"
        },
        "id": "Hf70q3N9K3TI",
        "outputId": "4ad6b31e-4d8f-48e3-994b-82a3bbaf2868"
      },
      "execution_count": null,
      "outputs": [
        {
          "output_type": "stream",
          "name": "stdout",
          "text": [
            "Ingrese el numero grande: 10\n",
            "Ingrese su numero actual: 20\n",
            "Numero grande actual:  20\n",
            "Ingrese su numero actual: 30\n",
            "Numero grande actual:  30\n",
            "Ingrese su numero actual: 40\n",
            "Numero grande actual:  40\n",
            "Ingrese su numero actual: 12\n",
            "El numero es menor al numero grande\n"
          ]
        }
      ]
    },
    {
      "cell_type": "code",
      "source": [
        "# Problema 10 #\n",
        "\n",
        "grupo = []\n",
        "aprobados = []\n",
        "desaprobados = []\n",
        "\n",
        "while True:\n",
        "  nota = int(input(\"Ingrese la nota del alumno: \"))\n",
        "  if nota >= 11:\n",
        "    aprobados.append(nota)\n",
        "  else:\n",
        "    desaprobados.append(nota)\n",
        "\n",
        "  respuesta = str(input(\"Desea ingresar otra nota? (S/N): \"))\n",
        "  if respuesta == \"S\" or respuesta == \"s\":\n",
        "    continue\n",
        "  else:\n",
        "    break\n",
        "\n",
        "print(\"Notas aprobadas:\", aprobados)\n",
        "print(\"Notas desaprobadas:\", desaprobados)"
      ],
      "metadata": {
        "colab": {
          "base_uri": "https://localhost:8080/"
        },
        "id": "li_boRsIO0q4",
        "outputId": "508229d8-f3d3-40ce-e4d0-2566e6a94921"
      },
      "execution_count": null,
      "outputs": [
        {
          "output_type": "stream",
          "name": "stdout",
          "text": [
            "Ingrese la nota del alumno: 12\n",
            "Desea ingresar otra nota? (S/N): s\n",
            "Ingrese la nota del alumno: 15\n",
            "Desea ingresar otra nota? (S/N): s\n",
            "Ingrese la nota del alumno: 20\n",
            "Desea ingresar otra nota? (S/N): s\n",
            "Ingrese la nota del alumno: 11\n",
            "Desea ingresar otra nota? (S/N): s\n",
            "Ingrese la nota del alumno: 10\n",
            "Desea ingresar otra nota? (S/N): s\n",
            "Ingrese la nota del alumno: 10\n",
            "Desea ingresar otra nota? (S/N): s\n",
            "Ingrese la nota del alumno: 09\n",
            "Desea ingresar otra nota? (S/N): n\n",
            "Notas aprobadas: [12, 15, 20, 11]\n",
            "Notas desaprobadas: [10, 10, 9]\n"
          ]
        }
      ]
    },
    {
      "cell_type": "code",
      "source": [
        "# Problema 11 #\n",
        "\n",
        "asignaturas = []\n",
        "notasA = []\n",
        "\n",
        "for i in range(5):\n",
        "    asignatura = input(\"Ingresa el nombre de la asignatura: \")\n",
        "    nota = float(input(\"Ingrese la nota: \"))\n",
        "\n",
        "    asignaturas.append(asignatura)\n",
        "    notasA.append(nota)\n",
        "\n",
        "for i in range(5):\n",
        "    print(f\"En la asignatura {asignaturas[i]} sacó {notasA[i]}\")"
      ],
      "metadata": {
        "colab": {
          "base_uri": "https://localhost:8080/"
        },
        "id": "831DO0DxTe-v",
        "outputId": "3f7923b0-7a35-46e3-fbd7-bd2e815551b7"
      },
      "execution_count": null,
      "outputs": [
        {
          "output_type": "stream",
          "name": "stdout",
          "text": [
            "Ingresa el nombre de la asignatura: Matematicas\n",
            "Ingrese la nota: 20\n",
            "Ingresa el nombre de la asignatura: Educacion\n",
            "Ingrese la nota: 14\n",
            "Ingresa el nombre de la asignatura: Fisica\n",
            "Ingrese la nota: 11\n",
            "Ingresa el nombre de la asignatura: Lectura\n",
            "Ingrese la nota: 17\n",
            "Ingresa el nombre de la asignatura: Quimica\n",
            "Ingrese la nota: 19\n",
            "En la asignatura Matematicas sacó 20.0\n",
            "En la asignatura Educacion sacó 14.0\n",
            "En la asignatura Fisica sacó 11.0\n",
            "En la asignatura Lectura sacó 17.0\n",
            "En la asignatura Quimica sacó 19.0\n"
          ]
        }
      ]
    },
    {
      "cell_type": "code",
      "source": [
        "# Problema 12 #\n",
        "\n",
        "# Parte 1 #\n",
        "horas = int(input(\"Ingrese la cantidad de horas: \"))\n",
        "\n",
        "if horas <= 1:\n",
        "  cargo = 3.00\n",
        "else:\n",
        "  cargo = 3.00 + (horas - 1) * 0.50\n",
        "\n",
        "if cargo > 12.00:\n",
        "  cargo = 12.00\n",
        "\n",
        "print(\"El cargo Total es: \", cargo)\n",
        "\n",
        "# Parte 2 #\n",
        "\n",
        "numb1 = int(input(\"Ingrese el primer numero: \"))\n",
        "numb2 = int(input(\"Ingrese el segundo numero: \"))\n",
        "\n",
        "if numb1 % numb2 == 0:\n",
        "  print(\"El primer numero es multiplo del segundo\")\n",
        "else:\n",
        "  print(\"El primer numero no es multiplo del segundo\")\n",
        "\n",
        "# Parte 3 #\n",
        "\n",
        "hora = int(input(\"Ingrese la hora: \"))\n",
        "minuto = int(input(\"Ingrese los minutos: \"))\n",
        "segundo = int(input(\"Ingrese los segundos: \"))\n",
        "\n",
        "segundos = hora * 3600 + minuto * 60 + segundo\n",
        "\n",
        "print(\"El equivalente en segundos es: \", segundos)"
      ],
      "metadata": {
        "colab": {
          "base_uri": "https://localhost:8080/"
        },
        "id": "jz1npWMMaiGW",
        "outputId": "66612efb-b355-438f-acf2-cfd2038d6416"
      },
      "execution_count": null,
      "outputs": [
        {
          "output_type": "stream",
          "name": "stdout",
          "text": [
            "Ingrese la cantidad de horas: 6\n",
            "El cargo Total es:  5.5\n",
            "Ingrese el primer numero: 6\n",
            "Ingrese el segundo numero: 3\n",
            "El primer numero es multiplo del segundo\n",
            "Ingrese la hora: 4\n",
            "Ingrese los minutos: 45\n",
            "Ingrese los segundos: 58\n",
            "El equivalente en segundos es:  17158\n"
          ]
        }
      ]
    }
  ]
}